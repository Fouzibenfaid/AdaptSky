{
 "cells": [
  {
   "cell_type": "code",
   "execution_count": 14,
   "metadata": {},
   "outputs": [
    {
     "name": "stdout",
     "output_type": "stream",
     "text": [
      "534 245 435\n"
     ]
    }
   ],
   "source": [
    "h1 = 5e-7\n",
    "h2 = 10e-7\n",
    "h3 = 3e-7\n",
    "\n",
    "a1 = 0.5\n",
    "a2 = 0.25\n",
    "a3 = 0.25\n",
    "\n",
    "h1 += 0.000000000001\n",
    "h2 += 0.000000000002\n",
    "h3 += 0.000000000003\n",
    "\n",
    "a1 += 0.000000000001\n",
    "a2 += 0.000000000002\n",
    "a3 += 0.000000000003\n",
    "     \n",
    "SUM1 = 0\n",
    "SUM2 = 0\n",
    "SUM3 = 0\n",
    "\n",
    "dr = {\n",
    "              h1: a1,\n",
    "              h2: a2,\n",
    "              h3: a3\n",
    "     }\n",
    "\n",
    "\n",
    "dd = {\n",
    "    \n",
    "    a1: SUM1,\n",
    "    a2: SUM2,\n",
    "    a3: SUM3\n",
    "}\n",
    "\n",
    "hs = [h1, h2, h3] \n",
    "hs.sort()\n",
    "        \n",
    "h11 = hs[0]\n",
    "a11 = dr[hs[0]]\n",
    "        \n",
    "h22 = hs[1]\n",
    "a22 = dr[hs[1]]\n",
    "        \n",
    "h33 = hs[2]\n",
    "a33 = dr[hs[2]]\n",
    "\n",
    "dd[a11] = 435\n",
    "dd[a22] = 534\n",
    "dd[a33] = 245\n",
    "\n",
    "SUM1 = dd[a1]\n",
    "SUM2 = dd[a2]\n",
    "SUM3 = dd[a3]\n",
    "\n",
    "print(round(SUM1,8), round(SUM2,8), round(SUM3,8))"
   ]
  },
  {
   "cell_type": "code",
   "execution_count": null,
   "metadata": {},
   "outputs": [],
   "source": []
  }
 ],
 "metadata": {
  "kernelspec": {
   "display_name": "Python 3",
   "language": "python",
   "name": "python3"
  },
  "language_info": {
   "codemirror_mode": {
    "name": "ipython",
    "version": 3
   },
   "file_extension": ".py",
   "mimetype": "text/x-python",
   "name": "python",
   "nbconvert_exporter": "python",
   "pygments_lexer": "ipython3",
   "version": "3.8.5"
  }
 },
 "nbformat": 4,
 "nbformat_minor": 4
}
